{
 "cells": [
  {
   "attachments": {},
   "cell_type": "markdown",
   "id": "37fc8e81",
   "metadata": {},
   "source": [
    "# Computing Errors of Pose Prediction from PvNet"
   ]
  },
  {
   "attachments": {},
   "cell_type": "markdown",
   "id": "7db10c41",
   "metadata": {},
   "source": [
    "This notebook is to walk through the process of computing errors of pose prediction result from PvNet, including translation error and angular(rotation) error.\n",
    "\n",
    "Let's say we have a set of predicted poses represented by transformation matrices: \n",
    "$$\\{{T_{pre}}\\}_i = \\begin{bmatrix} R_{pre}& t_{pre} \\\\ 0&1 \\end{bmatrix}_i $$\n",
    "where $R_{pre}$ is the 3x3 rotation matrix representing the predicted rotation, and $t_{pre}$ is the 3x1 translation vector representing the predicted translation of the $i$-th pose.\n",
    "\n",
    "Similarly, we have a set of corresponding ground truth poses represented by transformation matrices:\n",
    "$$\\{{T_{gt}}\\}_i = \\begin{bmatrix} R_{gt}& t_{gt} \\\\ 0&1 \\end{bmatrix}_i $$"
   ]
  },
  {
   "attachments": {},
   "cell_type": "markdown",
   "id": "7eb085c0",
   "metadata": {},
   "source": [
    "## 1. Translation Error"
   ]
  },
  {
   "attachments": {},
   "cell_type": "markdown",
   "id": "5d9a54de",
   "metadata": {},
   "source": [
    "### 1.1 Method\n",
    "The translation error can be calculated as the Euclidean distance between $t_{pre}=(x_1, y_1, z_1)$ and $t_{gt}=(x_2, y_2, z_2)$. \n",
    "\n",
    "Mathematically, the translation error for each dimension is given by:\n",
    "$$\n",
    "\\text{x\\_error}_{i} = | x_1 - x_2 |\n",
    "$$\n",
    "$$\n",
    "\\text{y\\_error}_{i} = | y_1 - y_2 |\n",
    "$$\n",
    "$$\n",
    "\\text{z\\_error}_{i} = | z_1 - z_2 |\n",
    "$$"
   ]
  },
  {
   "attachments": {},
   "cell_type": "markdown",
   "id": "de611d93",
   "metadata": {},
   "source": [
    "#### Implementation"
   ]
  },
  {
   "cell_type": "code",
   "execution_count": 1,
   "id": "3eae58f7",
   "metadata": {},
   "outputs": [],
   "source": [
    "import numpy as np\n",
    "\n",
    "def translation_error(T_pre, T_gt):\n",
    "    t_pre = T_pre[:3, 3]\n",
    "    t_gt = T_gt[:3, 3]\n",
    "    translation_error = np.abs(t_pre - t_gt)\n",
    "    return translation_error"
   ]
  },
  {
   "attachments": {},
   "cell_type": "markdown",
   "id": "68b0c09c",
   "metadata": {},
   "source": [
    "#### Example"
   ]
  },
  {
   "cell_type": "code",
   "execution_count": 2,
   "id": "44c61535",
   "metadata": {},
   "outputs": [],
   "source": [
    "T_gt = np.array([\n",
    "    [-0.9992905, -0.02776036, 0.02545223, -0.0097374 ],\n",
    "    [-0.01929233, 0.95770321, 0.2871104,   0.01518335],\n",
    "    [-0.03234596, 0.2864157, -0.95755938,  1.51049271],\n",
    "    [0., 0., 0., 1.]\n",
    "])\n",
    "\n",
    "T_pre = np.array([\n",
    "    [-0.9995757, -0.02325838,  0.0175349, -0.00948184],\n",
    "    [-0.01803212, 0.96688755,  0.25456493, 0.014642  ],\n",
    "    [-0.02287504, 0.25414072, -0.9668967,  1.46206129],\n",
    "    [0., 0., 0., 1.]\n",
    "])"
   ]
  },
  {
   "cell_type": "code",
   "execution_count": 3,
   "id": "be2da314",
   "metadata": {},
   "outputs": [
    {
     "name": "stdout",
     "output_type": "stream",
     "text": [
      "x error = 0.26 mm\n",
      "y error = 0.54 mm\n",
      "z error = 48.43 mm\n"
     ]
    }
   ],
   "source": [
    "t_error = translation_error(T_pre, T_gt)\n",
    "print(f\"x error = {t_error[0]*1000:.2f} mm\")\n",
    "print(f\"y error = {t_error[1]*1000:.2f} mm\")\n",
    "print(f\"z error = {t_error[2]*1000:.2f} mm\")"
   ]
  },
  {
   "attachments": {},
   "cell_type": "markdown",
   "id": "e3f75387",
   "metadata": {},
   "source": [
    "## 2. Angular Error"
   ]
  },
  {
   "attachments": {},
   "cell_type": "markdown",
   "id": "0851a9ff",
   "metadata": {},
   "source": [
    "### 2.1 Method1 - Using rotation matrices\n",
    "The angular error is the difference between the predicted rotation $R_{pre}$ and $R_{gt}$. Mathematically,\n",
    "\n",
    "$$R_{gt}^{pre} = R_{world}^{pre} R_{gt}^{world} = R_{world}^{pre} (R_{world}^{gt})^T$$\n",
    "$$\\theta = \\cos^{-1} \\left(\\dfrac{\\text{trace}\\left( R_{gt}^{pre} \\right) - 1}{2}\\right) $$\n",
    "\n",
    "Reference: \n",
    "\n",
    "[1. Axis–angle representation - WIKIPEDIA](https://en.wikipedia.org/wiki/Axis%E2%80%93angle_representation#Exponential_map_from_so.283.29_to_SO.283.29)\n",
    "\n",
    "[2. Distance between rotations - Blog](http://www.boris-belousov.net/2016/12/01/quat-dist/#using-quaternions)"
   ]
  },
  {
   "attachments": {},
   "cell_type": "markdown",
   "id": "fc473729",
   "metadata": {},
   "source": [
    "Implementation"
   ]
  },
  {
   "cell_type": "code",
   "execution_count": 67,
   "id": "bb5c980b",
   "metadata": {},
   "outputs": [],
   "source": [
    "def angular_R_error(T_pre, T_gt):\n",
    "    R_pre_in_world = T_pre[:3, :3]\n",
    "    R_gt_in_world = T_gt[:3, :3]\n",
    "    R_pre_2_gt = np.dot(R_pre_in_world, R_gt_in_world.T)\n",
    "    # print(f\"R_pre_2_gt = \\n{R_pre_2_gt}\")\n",
    "    trace = np.trace(R_pre_2_gt)\n",
    "    trace = trace if trace <= 3 else 3\n",
    "    trace = trace if trace >= -1 else -1\n",
    "    angular_distance = np.rad2deg(np.arccos((trace - 1.) / 2.))\n",
    "    return angular_distance"
   ]
  },
  {
   "cell_type": "code",
   "execution_count": 68,
   "id": "816a3c06",
   "metadata": {},
   "outputs": [
    {
     "name": "stdout",
     "output_type": "stream",
     "text": [
      "Angular Error computed by R matrices = 2.00 deg\n"
     ]
    }
   ],
   "source": [
    "angular_R_err = angular_R_error(T_pre, T_gt)\n",
    "print(f\"Angular Error computed by R matrices = {angular_R_err:.2f} deg\")"
   ]
  },
  {
   "attachments": {},
   "cell_type": "markdown",
   "id": "29adaf5f",
   "metadata": {},
   "source": [
    "### 2.2 Method2 - Using Quaternions\n",
    "Firstly, convert rotation matrices to quaternion representation. Let $q_{pre}$ and $q_{gt}$ be unit quaternions representing two rotations in the same basis, and they are converted from $R_{pre}$ and $R_{gt}$ respectively.\n",
    "\n",
    "The quaternion that represents the difference rotation is defined as $$r=q_{pre} q_{gt}^*$$\n",
    "\n",
    "Let quaternion $r$ have components $(\\cos(\\frac{\\theta}{2}), \\bm{u}\\sin(\\frac{\\theta}{2}))$. We can extract the angle from the first component $$(\\cos(\\frac{\\theta}{2}) = q_{pre1}q_{gt1}+q_{pre2}q_{gt2} + q_{pre3}q_{gt3} + q_{pre4}q_{gt4})$$\n",
    "\n",
    "using the $arcos$ function $$\\theta = 2\\arccos(q_{pre1}q_{gt1}+q_{pre2}q_{gt2} + q_{pre3}q_{gt3} + q_{pre4}q_{gt4})= 2\\arccos(|<q_{pre},q_{gt}>|)$$\n",
    "\n",
    "Reference: \n",
    "\n",
    "[1. Axis–angle representation - WIKIPEDIA](https://en.wikipedia.org/wiki/Axis%E2%80%93angle_representation#Exponential_map_from_so.283.29_to_SO.283.29)\n",
    "\n",
    "[2. Distance between rotations - Blog](http://www.boris-belousov.net/2016/12/01/quat-dist/#using-quaternions)"
   ]
  },
  {
   "cell_type": "markdown",
   "id": "2801714c",
   "metadata": {},
   "source": [
    "Implementation"
   ]
  },
  {
   "cell_type": "code",
   "execution_count": 15,
   "id": "c0bfd44b",
   "metadata": {},
   "outputs": [],
   "source": [
    "from scipy.spatial.transform import Rotation\n",
    "def angular_quaternion_error(T_pre, T_gt):\n",
    "    R_pre = T_pre[:3, :3]\n",
    "    R_gt = T_gt[:3, :3]\n",
    "\n",
    "    # Convert rotation matrices to quaternion representations\n",
    "    q1 = Rotation.from_matrix(R_pre).as_quat()\n",
    "    q2 = Rotation.from_matrix(R_gt).as_quat()\n",
    "\n",
    "    # Compute the dot product between the quaternions\n",
    "    def dot_product(q1, q2):\n",
    "        return q1[0]*q2[0] + q1[1]*q2[1] + q1[2]*q2[2] + q1[3]*q2[3]\n",
    "    q_diff = dot_product(q1, q2)\n",
    "\n",
    "    angular_diff = 2 * np.arccos(q_diff)\n",
    "    # Convert angular difference to degrees\n",
    "    angular_diff_deg = np.rad2deg(angular_diff)\n",
    "    return angular_diff_deg"
   ]
  },
  {
   "cell_type": "code",
   "execution_count": 18,
   "id": "6dbbe388",
   "metadata": {},
   "outputs": [
    {
     "name": "stdout",
     "output_type": "stream",
     "text": [
      "Angular Error computed by Quaternion = 2.00 deg\n",
      "Angular Error computed by R matrices = 2.00 deg\n"
     ]
    }
   ],
   "source": [
    "angular_quaternion_err = angular_quaternion_error(T_pre, T_gt)\n",
    "print(f\"Angular Error computed by Quaternion = {angular_quaternion_err:.2f} deg\")\n",
    "print(f\"Angular Error computed by R matrices = {angular_R_err:.2f} deg\")"
   ]
  },
  {
   "cell_type": "markdown",
   "id": "e1ef4645",
   "metadata": {},
   "source": [
    "## 3. Compute mean and std"
   ]
  },
  {
   "cell_type": "code",
   "execution_count": 87,
   "id": "09531d9a",
   "metadata": {},
   "outputs": [
    {
     "name": "stdout",
     "output_type": "stream",
     "text": [
      "Number of ground truth transformations loaded: 2000\n",
      "Example of the first ground truth transformation:\n",
      " [[ 0.98820491 -0.11969372 -0.09552267  0.00975042]\n",
      " [-0.15104082 -0.86468398 -0.47907035  0.02383753]\n",
      " [-0.02525521  0.48784745 -0.87256349  1.54093436]] \n",
      "\n",
      "Number of predicted transformations loaded: 2000 \n",
      "\n",
      "Number of translation errors calculated: 2000\n",
      "Example of the first translation error (unit: mm): [ 0.42785821  0.93720783 58.03406878]\n",
      "\n",
      "Number of angular rotation errors calculated: 2000\n",
      "Example of the first angular rotation error: 1.4504063859126508 \n",
      "\n",
      "Number of angular quaternion errors calculated: 2000\n",
      "Example of the first angular quaternion error: 1.4505517181561078 \n",
      "\n"
     ]
    }
   ],
   "source": [
    "import os\n",
    "import numpy as np\n",
    "\n",
    "# Assuming these functions (translation_error, angular_R_error, angular_quaternion_error) are defined elsewhere\n",
    "\n",
    "# Define the path and part\n",
    "path = \"/home/yangfei/clean-pvnet/data/evaluation/\"\n",
    "part = \"insert\"\n",
    "\n",
    "# Load T_gts (ground truth transformations) from a .npy file and print information\n",
    "path_T_gt = os.path.join(path, f\"T_gt_{part}.npy\")\n",
    "T_gts = np.load(path_T_gt)\n",
    "print(\"Number of ground truth transformations loaded:\", len(T_gts))\n",
    "print(\"Example of the first ground truth transformation:\\n\", T_gts[0], \"\\n\")\n",
    "\n",
    "# Load T_pres (predicted transformations) from a .npy file and print information\n",
    "path_T_pre = os.path.join(path, f\"T_pre_{part}.npy\")\n",
    "T_pres = np.load(path_T_pre)\n",
    "print(\"Number of predicted transformations loaded:\", len(T_pres), \"\\n\")\n",
    "\n",
    "# Calculate and print translation errors between ground truth and predicted transformations\n",
    "trans_err = []\n",
    "for i in range(len(T_gts)):\n",
    "    t_err = translation_error(T_gts[i], T_pres[i])\n",
    "    t_err = t_err * 1000  # Convert from meters to millimeters\n",
    "    trans_err.append(t_err)\n",
    "trans_err = np.array(trans_err)\n",
    "print(\"Number of translation errors calculated:\", len(trans_err))\n",
    "print(f\"Example of the first translation error (unit: mm): {trans_err[0]}\\n\")\n",
    "\n",
    "# Calculate and print angular rotation errors between ground truth and predicted transformations\n",
    "R_err = []\n",
    "for i in range(len(T_gts)):\n",
    "    r_err = angular_R_error(T_gts[i], T_pres[i])\n",
    "    R_err.append(r_err)\n",
    "R_err = np.array(R_err)\n",
    "print(\"Number of angular rotation errors calculated:\", len(R_err))\n",
    "print(\"Example of the first angular rotation error:\", R_err[0], \"\\n\")\n",
    "\n",
    "# Calculate and print angular quaternion errors between ground truth and predicted transformations\n",
    "Q_err = []\n",
    "for i in range(len(T_gts)):\n",
    "    q_err = angular_quaternion_error(T_gts[i], T_pres[i])\n",
    "    Q_err.append(q_err)\n",
    "Q_err = np.array(Q_err)\n",
    "print(\"Number of angular quaternion errors calculated:\", len(Q_err))\n",
    "print(\"Example of the first angular quaternion error:\", Q_err[0], \"\\n\")\n"
   ]
  },
  {
   "cell_type": "code",
   "execution_count": 88,
   "id": "c79d4841",
   "metadata": {},
   "outputs": [
    {
     "name": "stdout",
     "output_type": "stream",
     "text": [
      "Translation Error (X-axis): 0.74 mm, std 6.05\n",
      "Translation Error (Y-axis): 0.61 mm, std 0.81\n",
      "Translation Error (Z-axis): 68.44 mm, std 189.86\n",
      "Angular Error (rotation)  : 2.82 deg, std 3.66\n",
      "Angular Error (quaternion): 2.99 deg, std 8.67\n"
     ]
    }
   ],
   "source": [
    "trans_err_mean = np.mean(trans_err, axis=0)\n",
    "trans_err_std = np.std(trans_err, axis=0)\n",
    "\n",
    "angular_rotation = np.mean(R_err)\n",
    "angular_rotation_std = np.std(R_err)\n",
    "\n",
    "angular_quat = np.mean(Q_err)\n",
    "angular_quat_std = np.std(Q_err)\n",
    "\n",
    "print('Translation Error (X-axis): {:.2f} mm, std {:.2f}'.format(trans_err_mean[0], trans_err_std[0]))\n",
    "print('Translation Error (Y-axis): {:.2f} mm, std {:.2f}'.format(trans_err_mean[1], trans_err_std[1]))\n",
    "print('Translation Error (Z-axis): {:.2f} mm, std {:.2f}'.format(trans_err_mean[2], trans_err_std[2]))\n",
    "\n",
    "print('Angular Error (rotation)  : {:.2f} deg, std {:.2f}'.format(angular_rotation, angular_rotation_std))\n",
    "print('Angular Error (quaternion): {:.2f} deg, std {:.2f}'.format(angular_quat, angular_quat_std))"
   ]
  },
  {
   "cell_type": "code",
   "execution_count": 92,
   "id": "2de1301a",
   "metadata": {},
   "outputs": [
    {
     "name": "stdout",
     "output_type": "stream",
     "text": [
      "Index with the biggest difference: 955\n",
      "Angular Error Difference: 348.38 deg\n",
      "R_err[955] = 5.80809933226573\n",
      "Q_err[955] = 354.19185804071634\n",
      "T_gt[955] = [[ 0.01050018  0.99967605  0.02318502 -0.0256336 ]\n",
      " [-0.99975744  0.01004637  0.01960635 -0.0105524 ]\n",
      " [ 0.01936707 -0.02338526  0.99953893  1.8545416 ]]\n",
      "T_pre[955] = [[-2.67434923e-03  9.99582700e-01 -2.87623513e-02 -2.47114263e-02]\n",
      " [-9.94423245e-01  3.74061005e-04  1.05462169e-01 -1.02195253e-02]\n",
      " [ 1.05428919e-01  2.88839934e-02  9.94007273e-01  1.78244954e+00]]\n"
     ]
    }
   ],
   "source": [
    "# Calculate the absolute differences between Q_err and R_err for each corresponding element\n",
    "angular_diff = np.abs(Q_err - R_err)\n",
    "\n",
    "# Find the index with the maximum difference\n",
    "max_diff_index = np.argmax(angular_diff)\n",
    "\n",
    "# Print the index and the corresponding difference\n",
    "print(f\"Index with the biggest difference: {max_diff_index}\")\n",
    "print(f\"Angular Error Difference: {angular_diff[max_diff_index]:.2f} deg\")\n",
    "\n",
    "print(f\"R_err[{max_diff_index}] = {R_err[max_diff_index]}\")\n",
    "print(f\"Q_err[{max_diff_index}] = {Q_err[max_diff_index]}\")\n",
    "\n",
    "print(f\"T_gt[{max_diff_index}] = {T_gts[max_diff_index]}\")\n",
    "print(f\"T_pre[{max_diff_index}] = {T_pres[max_diff_index]}\")"
   ]
  },
  {
   "cell_type": "code",
   "execution_count": 95,
   "id": "9cfc90cb",
   "metadata": {},
   "outputs": [
    {
     "name": "stdout",
     "output_type": "stream",
     "text": [
      "5.80809933226573\n",
      "354.19185804071634\n"
     ]
    }
   ],
   "source": [
    "T1 = T_gts[max_diff_index]\n",
    "T2 = T_pres[max_diff_index]\n",
    "R_e = angular_R_error(T2, T1)\n",
    "# The output domain of 'np.arccos' is [0, pi]. \n",
    "# Ref: https://numpy.org/doc/stable/reference/generated/numpy.arccos.html\n",
    "Q_e = angular_quaternion_error(T2, T1) \n",
    "print(R_e)\n",
    "print(Q_e)"
   ]
  },
  {
   "cell_type": "code",
   "execution_count": 47,
   "id": "5e8815a7",
   "metadata": {},
   "outputs": [
    {
     "data": {
      "image/png": "[encoded data removed]",
      "text/plain": [
       "<Figure size 720x432 with 1 Axes>"
      ]
     },
     "metadata": {
      "needs_background": "light"
     },
     "output_type": "display_data"
    }
   ],
   "source": [
    "import numpy as np\n",
    "import matplotlib.pyplot as plt\n",
    "\n",
    "# Create histograms\n",
    "plt.figure(figsize=(10, 6))\n",
    "\n",
    "# Histogram for Q_err\n",
    "plt.hist(Q_err, bins=30, range=(0, 30), alpha=0.7, color='blue', label='Q_err')\n",
    "\n",
    "# Histogram for R_err\n",
    "plt.hist(R_err, bins=30, range=(0, 30), alpha=0.7, color='red', label='R_err')\n",
    "\n",
    "plt.xlabel('Angular Error (degrees)')\n",
    "plt.ylabel('Frequency')\n",
    "plt.title('Histogram of Angular Errors (2000 samples)')\n",
    "plt.legend()\n",
    "plt.grid(True)\n",
    "\n",
    "plt.show()"
   ]
  },
  {
   "cell_type": "code",
   "execution_count": 50,
   "id": "05221d27",
   "metadata": {},
   "outputs": [
    {
     "data": {
      "image/png": "[encoded data removed]",
      "text/plain": [
       "<Figure size 1080x432 with 3 Axes>"
      ]
     },
     "metadata": {
      "needs_background": "light"
     },
     "output_type": "display_data"
    }
   ],
   "source": [
    "# Create histograms\n",
    "plt.figure(figsize=(15, 6))\n",
    "\n",
    "# Histogram for X-axis translation error\n",
    "plt.subplot(131)\n",
    "plt.hist(trans_err[:, 0], bins=50, range=(0, 10), alpha=0.7, color='blue')\n",
    "plt.xlabel('Translation Error (X-axis, mm)')\n",
    "plt.ylabel('Frequency')\n",
    "plt.title('Histogram of X-axis Translation Errors')\n",
    "\n",
    "# Histogram for Y-axis translation error\n",
    "plt.subplot(132)\n",
    "plt.hist(trans_err[:, 1], bins=50, range=(0, 10), alpha=0.7, color='green')\n",
    "plt.xlabel('Translation Error (Y-axis, mm)')\n",
    "plt.ylabel('Frequency')\n",
    "plt.title('Histogram of Y-axis Translation Errors')\n",
    "\n",
    "# Histogram for Z-axis translation error\n",
    "plt.subplot(133)\n",
    "plt.hist(trans_err[:, 2], bins=50, range=(0, 200), alpha=0.7, color='orange')\n",
    "plt.xlabel('Translation Error (Z-axis, mm)')\n",
    "plt.ylabel('Frequency')\n",
    "plt.title('Histogram of Z-axis Translation Errors')\n",
    "\n",
    "plt.tight_layout()  # To improve spacing between subplots\n",
    "plt.show()"
   ]
  },
  {
   "cell_type": "code",
   "execution_count": 51,
   "id": "90bf87db",
   "metadata": {},
   "outputs": [
    {
     "name": "stdout",
     "output_type": "stream",
     "text": [
      "Maximum X-axis Translation Error: 270.23 mm\n",
      "Maximum Y-axis Translation Error: 31.69 mm\n",
      "Maximum Z-axis Translation Error: 8507.21 mm\n"
     ]
    }
   ],
   "source": [
    "# Find the maximum values for X, Y, and Z translation errors\n",
    "max_x = np.max(trans_err[:, 0])\n",
    "max_y = np.max(trans_err[:, 1])\n",
    "max_z = np.max(trans_err[:, 2])\n",
    "\n",
    "# Print out the results\n",
    "print('Maximum X-axis Translation Error: {:.2f} mm'.format(max_x))\n",
    "print('Maximum Y-axis Translation Error: {:.2f} mm'.format(max_y))\n",
    "print('Maximum Z-axis Translation Error: {:.2f} mm'.format(max_z))"
   ]
  }
 ],
 "metadata": {
  "kernelspec": {
   "display_name": "Python 3 (ipykernel)",
   "language": "python",
   "name": "python3"
  },
  "language_info": {
   "codemirror_mode": {
    "name": "ipython",
    "version": 3
   },
   "file_extension": ".py",
   "mimetype": "text/x-python",
   "name": "python",
   "nbconvert_exporter": "python",
   "pygments_lexer": "ipython3",
   "version": "3.9.12"
  }
 },
 "nbformat": 4,
 "nbformat_minor": 5
}
