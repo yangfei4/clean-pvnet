{
 "cells": [
  {
   "attachments": {},
   "cell_type": "markdown",
   "id": "37fc8e81",
   "metadata": {},
   "source": [
    "# Computing Errors of Pose Prediction from PvNet"
   ]
  },
  {
   "attachments": {},
   "cell_type": "markdown",
   "id": "7db10c41",
   "metadata": {},
   "source": [
    "This notebook is to walk through the process of computing errors of pose prediction result from PvNet, including translation error and angular(rotation) error.\n",
    "\n",
    "Let's say we have a set of predicted poses represented by transformation matrices: \n",
    "$$\\{{T_{pre}}\\}_i = \\begin{bmatrix} R_{pre}& t_{pre} \\\\ 0&1 \\end{bmatrix}_i $$\n",
    "where $R_{pre}$ is the 3x3 rotation matrix representing the predicted rotation, and $t_{pre}$ is the 3x1 translation vector representing the predicted translation of the $i$-th pose.\n",
    "\n",
    "Similarly, we have a set of corresponding ground truth poses represented by transformation matrices:\n",
    "$$\\{{T_{gt}}\\}_i = \\begin{bmatrix} R_{gt}& t_{gt} \\\\ 0&1 \\end{bmatrix}_i $$"
   ]
  },
  {
   "attachments": {},
   "cell_type": "markdown",
   "id": "7eb085c0",
   "metadata": {},
   "source": [
    "## 1. Translation Error"
   ]
  },
  {
   "attachments": {},
   "cell_type": "markdown",
   "id": "5d9a54de",
   "metadata": {},
   "source": [
    "### 1.1 Method\n",
    "The translation error can be calculated as the Euclidean distance between $t_{pre}=(x_1, y_1, z_1)$ and $t_{gt}=(x_2, y_2, z_2)$. \n",
    "\n",
    "Mathematically, the translation error for each dimension is given by:\n",
    "$$\n",
    "\\text{x\\_error}_{i} = | x_1 - x_2 |\n",
    "$$\n",
    "$$\n",
    "\\text{y\\_error}_{i} = | y_1 - y_2 |\n",
    "$$\n",
    "$$\n",
    "\\text{z\\_error}_{i} = | z_1 - z_2 |\n",
    "$$"
   ]
  },
  {
   "attachments": {},
   "cell_type": "markdown",
   "id": "de611d93",
   "metadata": {},
   "source": [
    "#### Implementation"
   ]
  },
  {
   "cell_type": "code",
   "execution_count": 5,
   "id": "3eae58f7",
   "metadata": {},
   "outputs": [],
   "source": [
    "import numpy as np\n",
    "\n",
    "def translation_error(T_pre, T_gt):\n",
    "    t_pre = T_pre[:3, 3]\n",
    "    t_gt = T_gt[:3, 3]\n",
    "    translation_error = np.abs(t_pre - t_gt)\n",
    "    return translation_error"
   ]
  },
  {
   "attachments": {},
   "cell_type": "markdown",
   "id": "68b0c09c",
   "metadata": {},
   "source": [
    "#### Example"
   ]
  },
  {
   "cell_type": "code",
   "execution_count": 6,
   "id": "44c61535",
   "metadata": {},
   "outputs": [],
   "source": [
    "T_gt = np.array([\n",
    "    [-0.9992905, -0.02776036, 0.02545223, -0.0097374 ],\n",
    "    [-0.01929233, 0.95770321, 0.2871104,   0.01518335],\n",
    "    [-0.03234596, 0.2864157, -0.95755938,  1.51049271],\n",
    "    [0., 0., 0., 1.]\n",
    "])\n",
    "\n",
    "T_pre = np.array([\n",
    "    [-0.9995757, -0.02325838,  0.0175349, -0.00948184],\n",
    "    [-0.01803212, 0.96688755,  0.25456493, 0.014642  ],\n",
    "    [-0.02287504, 0.25414072, -0.9668967,  1.46206129],\n",
    "    [0., 0., 0., 1.]\n",
    "])"
   ]
  },
  {
   "cell_type": "code",
   "execution_count": 7,
   "id": "be2da314",
   "metadata": {},
   "outputs": [
    {
     "name": "stdout",
     "output_type": "stream",
     "text": [
      "x error = 0.26 mm\n",
      "y error = 0.54 mm\n",
      "z error = 48.43 mm\n"
     ]
    }
   ],
   "source": [
    "t_error = translation_error(T_pre, T_gt)\n",
    "print(f\"x error = {t_error[0]*1000:.2f} mm\")\n",
    "print(f\"y error = {t_error[1]*1000:.2f} mm\")\n",
    "print(f\"z error = {t_error[2]*1000:.2f} mm\")"
   ]
  },
  {
   "attachments": {},
   "cell_type": "markdown",
   "id": "e3f75387",
   "metadata": {},
   "source": [
    "## 2. Angular Error"
   ]
  },
  {
   "attachments": {},
   "cell_type": "markdown",
   "id": "0851a9ff",
   "metadata": {},
   "source": [
    "### 2.1 Method1 - Using rotation matrices\n",
    "The angular error is the difference between the predicted rotation $R_{pre}$ and $R_{gt}$. Mathematically,\n",
    "\n",
    "$$R_{gt}^{pre} = R_{world}^{pre} R_{gt}^{world} = R_{world}^{pre} (R_{world}^{gt})^T$$\n",
    "$$\\theta = \\cos^{-1} \\left(\\dfrac{\\text{trace}\\left( R_{gt}^{pre} \\right) - 1}{2}\\right) $$\n",
    "\n",
    "Reference: \n",
    "\n",
    "[1. Axis–angle representation - WIKIPEDIA](https://en.wikipedia.org/wiki/Axis%E2%80%93angle_representation#Exponential_map_from_so.283.29_to_SO.283.29)\n",
    "\n",
    "[2. Distance between rotations - Blog](http://www.boris-belousov.net/2016/12/01/quat-dist/#using-quaternions)"
   ]
  },
  {
   "attachments": {},
   "cell_type": "markdown",
   "id": "fc473729",
   "metadata": {},
   "source": [
    "Implementation"
   ]
  },
  {
   "cell_type": "code",
   "execution_count": 13,
   "id": "bb5c980b",
   "metadata": {},
   "outputs": [],
   "source": [
    "def angular_R_error(T_pre, T_gt):\n",
    "    R_pre_in_world = T_pre[:3, :3]\n",
    "    R_gt_in_world = T_gt[:3, :3]\n",
    "    R_pre_2_gt = np.dot(R_pre_in_world, R_gt_in_world.T)\n",
    "    print(f\"R_pre_2_gt = \\n{R_pre_2_gt}\")\n",
    "    trace = np.trace(R_pre_2_gt)\n",
    "    trace = trace if trace <= 3 else 3\n",
    "    trace = trace if trace >= -1 else -1\n",
    "    angular_distance = np.rad2deg(np.arccos((trace - 1.) / 2.))\n",
    "    return angular_distance"
   ]
  },
  {
   "cell_type": "code",
   "execution_count": 14,
   "id": "816a3c06",
   "metadata": {},
   "outputs": [
    {
     "name": "stdout",
     "output_type": "stream",
     "text": [
      "R_pre_2_gt = \n",
      "[[ 0.99995846  0.00204397  0.00887996]\n",
      " [-0.00234258  0.99942743  0.033754  ]\n",
      " [-0.0088059  -0.0337734   0.99939081]]\n",
      "Angular Error computed by R matrices = 2.00 deg\n"
     ]
    }
   ],
   "source": [
    "angular_R_err = angular_R_error(T_pre, T_gt)\n",
    "print(f\"Angular Error computed by R matrices = {angular_R_err:.2f} deg\")"
   ]
  },
  {
   "attachments": {},
   "cell_type": "markdown",
   "id": "29adaf5f",
   "metadata": {},
   "source": [
    "### 2.2 Method2 - Using Quaternions\n",
    "Firstly, convert rotation matrices to quaternion representation.\n",
    "The angular error is the difference between the predicted rotation $R_{pre}$ and $R_{gt}$. Mathematically,\n",
    "\n",
    "$$R_{gt}^{pre} = R_{world}^{pre} R_{gt}^{world} = R_{world}^{pre} (R_{world}^{gt})^T$$\n",
    "$$\\theta = \\cos^{-1} \\left(\\dfrac{\\text{trace}\\left( R_{gt}^{pre} \\right) - 1}{2}\\right) $$\n",
    "\n",
    "Reference: \n",
    "\n",
    "[1. Axis–angle representation - WIKIPEDIA](https://en.wikipedia.org/wiki/Axis%E2%80%93angle_representation#Exponential_map_from_so.283.29_to_SO.283.29)\n",
    "\n",
    "[2. Distance between rotations - Blog](http://www.boris-belousov.net/2016/12/01/quat-dist/#using-quaternions)"
   ]
  },
  {
   "cell_type": "code",
   "execution_count": 2,
   "id": "09531d9a",
   "metadata": {},
   "outputs": [
    {
     "name": "stdout",
     "output_type": "stream",
     "text": [
      "2000\n",
      "[[4.27858208e-01 9.37207832e-01 5.80340688e+01]\n",
      " [2.29019414e-01 5.05099851e-01 4.51141417e+01]\n",
      " [9.56568425e-01 1.40319250e-01 7.51563556e+01]\n",
      " ...\n",
      " [2.00240502e+00 6.92373054e-01 1.02820756e+02]\n",
      " [5.78667867e-01 5.79090619e-02 5.09114359e+01]\n",
      " [3.64594402e-01 6.81226554e-01 5.05859588e+01]]\n",
      "2000\n",
      "[1.45040639 1.99054171 1.10031806 ... 3.14390361 1.36634796 2.10326126]\n",
      "2000\n",
      "[1.45055172 1.99060406 1.10010096 ... 3.14391362 1.36644833 2.10340228]\n"
     ]
    }
   ],
   "source": [
    "import os\n",
    "import numpy as np\n",
    "path = \"/home/yangfei/clean-pvnet/data\"\n",
    "path_trans = os.path.join(path, \"trans_err.npy\")\n",
    "trans_err = np.load(path_trans)\n",
    "print(len(trans_err))\n",
    "print(trans_err)\n",
    "\n",
    "path_R = os.path.join(path, \"ang_R_err.npy\")\n",
    "R_err = np.load(path_R)\n",
    "print(len(R_err))\n",
    "print(R_err)\n",
    "\n",
    "path_Q = os.path.join(path, \"ang_Q_err.npy\")\n",
    "Q_err = np.load(path_Q)\n",
    "print(len(Q_err))\n",
    "print(Q_err)"
   ]
  },
  {
   "attachments": {},
   "cell_type": "markdown",
   "id": "fb5891d6",
   "metadata": {},
   "source": []
  },
  {
   "cell_type": "code",
   "execution_count": 1,
   "id": "c0317ca2",
   "metadata": {},
   "outputs": [],
   "source": [
    "import numpy as np"
   ]
  },
  {
   "attachments": {},
   "cell_type": "markdown",
   "id": "88e6a240",
   "metadata": {},
   "source": [
    "#### \"Reasonable\""
   ]
  },
  {
   "cell_type": "code",
   "execution_count": 2,
   "id": "931440e4",
   "metadata": {},
   "outputs": [
    {
     "name": "stdout",
     "output_type": "stream",
     "text": [
      "[[-0.9995757  -0.02325838  0.0175349 ]\n",
      " [-0.01803212  0.96688755  0.25456493]\n",
      " [-0.02287504  0.25414072 -0.9668967 ]]\n",
      "[[-0.9992905  -0.02776036  0.02545223]\n",
      " [-0.01929233  0.95770321  0.2871104 ]\n",
      " [-0.03234596  0.2864157  -0.95755938]]\n"
     ]
    }
   ],
   "source": [
    "T_1in0 = np.array([\n",
    "    [-0.9995757, -0.02325838,  0.0175349, -0.00948184],\n",
    "    [-0.01803212, 0.96688755,  0.25456493, 0.014642  ],\n",
    "    [-0.02287504, 0.25414072, -0.9668967,  1.46206129],\n",
    "    [0., 0., 0., 1.],\n",
    "])\n",
    "\n",
    "T_2in0 = np.array([\n",
    "    [-0.9992905, -0.02776036, 0.02545223, -0.0097374 ],\n",
    "    [-0.01929233, 0.95770321, 0.2871104,   0.01518335],\n",
    "    [-0.03234596, 0.2864157, -0.95755938,  1.51049271],\n",
    "    [0., 0., 0., 1.],\n",
    "])\n",
    "\n",
    "R_1in0 = T_1in0[0:3, 0:3]\n",
    "R_2in0 = T_2in0[0:3, 0:3]\n",
    "\n",
    "print(R_1in0)\n",
    "print(R_2in0)"
   ]
  },
  {
   "attachments": {},
   "cell_type": "markdown",
   "id": "085f9ae1",
   "metadata": {},
   "source": [
    "First check at least the the determinant of both rotation matrices is $1$."
   ]
  },
  {
   "cell_type": "code",
   "execution_count": 3,
   "id": "f1425924",
   "metadata": {},
   "outputs": [
    {
     "name": "stdout",
     "output_type": "stream",
     "text": [
      "det(R_1in0) =  1.000\n",
      "det(R_2in0) =  1.000\n"
     ]
    }
   ],
   "source": [
    "print(f'det(R_1in0) = {np.linalg.det(R_1in0):6.3f}')\n",
    "print(f'det(R_2in0) = {np.linalg.det(R_2in0):6.3f}')"
   ]
  },
  {
   "attachments": {},
   "cell_type": "markdown",
   "id": "cc84f035",
   "metadata": {},
   "source": [
    "$$R_2^1 = R_0^1 R_2^0 = (R_1^0)^T R_2^0$$"
   ]
  },
  {
   "cell_type": "code",
   "execution_count": 4,
   "id": "042a77a8",
   "metadata": {},
   "outputs": [
    {
     "name": "stdout",
     "output_type": "stream",
     "text": [
      "[[ 0.9999543   0.00392739 -0.00871443]\n",
      " [-0.00363206  0.99942686  0.03365666]\n",
      " [ 0.00884159 -0.03362352  0.99939555]]\n"
     ]
    }
   ],
   "source": [
    "R_2in1 = R_1in0.T @ R_2in0\n",
    "\n",
    "print(R_2in1)"
   ]
  },
  {
   "attachments": {},
   "cell_type": "markdown",
   "id": "7b22f219",
   "metadata": {},
   "source": [
    "$$\\theta = \\cos^{-1} \\left(\\dfrac{\\text{trace}\\left( R_2^1 \\right) - 1}{2}\\right) $$"
   ]
  },
  {
   "cell_type": "code",
   "execution_count": 5,
   "id": "164919b8",
   "metadata": {},
   "outputs": [
    {
     "name": "stdout",
     "output_type": "stream",
     "text": [
      "theta_2in1 =  0.035 rad =  2.004 deg\n"
     ]
    }
   ],
   "source": [
    "theta_2in1 = np.arccos((R_2in1.trace() - 1.) / 2.)\n",
    "\n",
    "print(f'theta_2in1 = {theta_2in1:6.3f} rad = {np.rad2deg(theta_2in1):6.3f} deg')"
   ]
  },
  {
   "attachments": {},
   "cell_type": "markdown",
   "id": "49a9f167",
   "metadata": {},
   "source": [
    "#### \"Unreasonable\""
   ]
  },
  {
   "cell_type": "code",
   "execution_count": 6,
   "id": "56b42639",
   "metadata": {},
   "outputs": [
    {
     "name": "stdout",
     "output_type": "stream",
     "text": [
      "[[ 0.50412449 -0.86339407 -0.02022804]\n",
      " [ 0.85312843  0.49421558  0.1671013 ]\n",
      " [ 0.13427726  0.1014969  -0.98573221]]\n",
      "[[ 0.51519562 -0.85650104 -0.03129786]\n",
      " [ 0.85454693  0.51053328  0.09542202]\n",
      " [-0.06575047 -0.07590649  0.99494484]]\n"
     ]
    }
   ],
   "source": [
    "T_1in0 = np.array([\n",
    "    [ 0.50412449, -0.86339407, -0.02022804, 0.00188722],\n",
    "    [ 0.85312843, 0.49421558, 0.1671013, -0.01022479],\n",
    "    [ 0.13427726, 0.1014969, -0.98573221, 1.72247981],\n",
    "    [0., 0., 0., 1.],\n",
    "])\n",
    "\n",
    "T_2in0 = np.array([\n",
    "    [ 0.51519562, -0.85650104, -0.03129786, 0.00203341],\n",
    "    [ 0.85454693, 0.51053328, 0.09542202, -0.01044806],\n",
    "    [-0.06575047, -0.07590649, 0.99494484, 1.774678],\n",
    "    [0., 0., 0., 1.],\n",
    "])\n",
    "\n",
    "R_1in0 = T_1in0[0:3, 0:3]\n",
    "R_2in0 = T_2in0[0:3, 0:3]\n",
    "\n",
    "print(R_1in0)\n",
    "print(R_2in0)"
   ]
  },
  {
   "attachments": {},
   "cell_type": "markdown",
   "id": "31da73fe",
   "metadata": {},
   "source": [
    "$$R_2^1 = R_0^1 R_2^0 = R_0^1 (R_0^2)^T$$"
   ]
  },
  {
   "cell_type": "code",
   "execution_count": 7,
   "id": "c994d51a",
   "metadata": {},
   "outputs": [
    {
     "name": "stdout",
     "output_type": "stream",
     "text": [
      "[[ 0.97993222 -0.00642521  0.19922769]\n",
      " [-0.02915991  0.98410715  0.17516525]\n",
      " [ 0.19718686  0.17745958 -0.96417094]]\n"
     ]
    }
   ],
   "source": [
    "R_2in1 = R_1in0.T @ R_2in0\n",
    "\n",
    "print(R_2in1)"
   ]
  },
  {
   "attachments": {},
   "cell_type": "markdown",
   "id": "c9cec3bb",
   "metadata": {},
   "source": [
    "$$\\theta = \\cos^{-1} \\left(\\dfrac{\\text{trace}\\left( R_2^1 \\right) - 1}{2}\\right) $$"
   ]
  },
  {
   "cell_type": "code",
   "execution_count": 8,
   "id": "7fa3cbab",
   "metadata": {},
   "outputs": [
    {
     "name": "stdout",
     "output_type": "stream",
     "text": [
      "theta_2in1 =  1.571 rad = 90.004 deg\n"
     ]
    }
   ],
   "source": [
    "theta_2in1 = np.arccos((R_2in1.trace() - 1.) / 2.)\n",
    "\n",
    "print(f'theta_2in1 = {theta_2in1:6.3f} rad = {np.rad2deg(theta_2in1):6.3f} deg')"
   ]
  },
  {
   "attachments": {},
   "cell_type": "markdown",
   "id": "18d72134",
   "metadata": {},
   "source": [
    "We think this result is wrong. First, let's check if $R_1^0$ and $R_2^0$ really are rotation matrices. Here's the first condition these matrices have to satisfy:\n",
    "\n",
    "$$\\det(R_1^0) = \\det(R_2^0) = 1$$"
   ]
  },
  {
   "cell_type": "code",
   "execution_count": 9,
   "id": "08b01f52",
   "metadata": {},
   "outputs": [
    {
     "name": "stdout",
     "output_type": "stream",
     "text": [
      "det(R_1in0) = -1.000\n",
      "det(R_2in0) =  1.000\n"
     ]
    }
   ],
   "source": [
    "print(f'det(R_1in0) = {np.linalg.det(R_1in0):6.3f}')\n",
    "print(f'det(R_2in0) = {np.linalg.det(R_2in0):6.3f}')"
   ]
  },
  {
   "attachments": {},
   "cell_type": "markdown",
   "id": "cb77b96a",
   "metadata": {},
   "source": [
    "The problem, clearly, is that $R_1^0$ is not a valid rotation matrix --- in particular, it satisfies the \"left-hand rule\" rather than the \"right-hand rule.\""
   ]
  },
  {
   "cell_type": "code",
   "execution_count": 10,
   "id": "a1516215",
   "metadata": {},
   "outputs": [
    {
     "name": "stdout",
     "output_type": "stream",
     "text": [
      "det(-R_1in0) =  1.000\n"
     ]
    }
   ],
   "source": [
    "print(f'det(-R_1in0) = {np.linalg.det(-R_1in0):6.3f}')"
   ]
  },
  {
   "attachments": {},
   "cell_type": "markdown",
   "id": "ac1591c0",
   "metadata": {},
   "source": [
    "#### Test the \"Rodrigues\" function from OpenCV"
   ]
  },
  {
   "attachments": {},
   "cell_type": "markdown",
   "id": "36d7b3f6",
   "metadata": {},
   "source": [
    "We want to know why the following code is producing bad results (invalid rotation matrices):\n",
    "\n",
    "```\n",
    "def pnp(points_3d, points_2d, camera_matrix, method=cv2.SOLVEPNP_ITERATIVE):\n",
    "    try:\n",
    "        dist_coeffs = pnp.dist_coeffs\n",
    "    except:\n",
    "        dist_coeffs = np.zeros(shape=[8, 1], dtype='float64')\n",
    "\n",
    "    assert points_3d.shape[0] == points_2d.shape[0], 'points 3D and points 2D must have same number of vertices'\n",
    "    if method == cv2.SOLVEPNP_EPNP:\n",
    "        points_3d = np.expand_dims(points_3d, 0)\n",
    "        points_2d = np.expand_dims(points_2d, 0)\n",
    "\n",
    "    points_2d = np.ascontiguousarray(points_2d.astype(np.float64))\n",
    "    points_3d = np.ascontiguousarray(points_3d.astype(np.float64))\n",
    "    camera_matrix = camera_matrix.astype(np.float64)\n",
    "    _, R_exp, t = cv2.solvePnP(points_3d,\n",
    "                               points_2d,\n",
    "                               camera_matrix,\n",
    "                               dist_coeffs,\n",
    "                               flags=method)\n",
    "    # , None, None, False, cv2.SOLVEPNP_UPNP)\n",
    "\n",
    "    # R_exp, t, _ = cv2.solvePnPRansac(points_3D,\n",
    "    #                            points_2D,\n",
    "    #                            cameraMatrix,\n",
    "    #                            distCoeffs,\n",
    "    #                            reprojectionError=12.0)\n",
    "\n",
    "    R, _ = cv2.Rodrigues(R_exp)\n",
    "    # trans_3d=np.matmul(points_3d,R.transpose())+t.transpose()\n",
    "    # if np.max(trans_3d[:,2]<0):\n",
    "    #     R=-R\n",
    "    #     t=-t\n",
    "\n",
    "    return np.concatenate([R, t], axis=-1)\n",
    "```"
   ]
  },
  {
   "cell_type": "code",
   "execution_count": 11,
   "id": "379ff30c",
   "metadata": {},
   "outputs": [
    {
     "name": "stdout",
     "output_type": "stream",
     "text": [
      "OpenCV (cv2) version: 4.5.5\n"
     ]
    }
   ],
   "source": [
    "import cv2\n",
    "print(\"OpenCV (cv2) version:\", cv2.__version__)"
   ]
  },
  {
   "cell_type": "code",
   "execution_count": 12,
   "id": "74559936",
   "metadata": {},
   "outputs": [
    {
     "name": "stdout",
     "output_type": "stream",
     "text": [
      "[[ 1.          0.          0.        ]\n",
      " [ 0.          0.54030231 -0.84147098]\n",
      " [ 0.          0.84147098  0.54030231]]\n",
      "1.0\n",
      "True\n"
     ]
    }
   ],
   "source": [
    "rvec = np.array([1., 0., 0.])\n",
    "[R, J] = cv2.Rodrigues(rvec)\n",
    "print(R)\n",
    "print(np.linalg.det(R))\n",
    "print(np.allclose(R.T @ R, np.eye(3)))"
   ]
  },
  {
   "cell_type": "code",
   "execution_count": 13,
   "id": "d20b8e4c",
   "metadata": {},
   "outputs": [
    {
     "name": "stdout",
     "output_type": "stream",
     "text": [
      "[[1. 0. 0.]\n",
      " [0. 1. 0.]\n",
      " [0. 0. 1.]]\n",
      "1.0\n",
      "True\n"
     ]
    }
   ],
   "source": [
    "rvec = np.array([0., 0., 0.])\n",
    "[R, J] = cv2.Rodrigues(rvec)\n",
    "print(R)\n",
    "print(np.linalg.det(R))\n",
    "print(np.allclose(R.T @ R, np.eye(3)))"
   ]
  },
  {
   "cell_type": "code",
   "execution_count": 14,
   "id": "e9f2d8ee",
   "metadata": {},
   "outputs": [
    {
     "name": "stdout",
     "output_type": "stream",
     "text": [
      "00000 / 01000\n",
      "00100 / 01000\n",
      "00200 / 01000\n",
      "00300 / 01000\n",
      "00400 / 01000\n",
      "00500 / 01000\n",
      "00600 / 01000\n",
      "00700 / 01000\n",
      "00800 / 01000\n",
      "00900 / 01000\n"
     ]
    }
   ],
   "source": [
    "maxiter = 1000\n",
    "for iter in range(maxiter):\n",
    "    if not iter % 100:\n",
    "        print(f'{iter:05d} / {maxiter:05d}')\n",
    "    rvec = 10. * np.random.randn(3)\n",
    "    [R, J] = cv2.Rodrigues(rvec)\n",
    "    detR = np.linalg.det(R)\n",
    "    if not np.isclose(detR, 1.):\n",
    "        print(f'bad determinant: {detR:6.3f}')\n",
    "        print(rvec)\n",
    "        print(R)\n",
    "        print(J)\n",
    "        break\n",
    "    if not np.allclose(R.T @ R, np.eye(3)):\n",
    "        print(f'bad axes')\n",
    "        print(rvec)\n",
    "        print(R)\n",
    "        print(J)\n",
    "        break"
   ]
  },
  {
   "attachments": {},
   "cell_type": "markdown",
   "id": "dc121807",
   "metadata": {},
   "source": [
    "Some conclusions (discussed this more in person):\n",
    "\n",
    "* The order of outputs of `cv2.solvePnP` might be wrong.\n",
    "* The code that you claimed to use must not be the code you actually used (probably), because `cv2.Rodrigues` should --- according to our results --- *always* produce a valid rotation matrix."
   ]
  },
  {
   "cell_type": "code",
   "execution_count": 15,
   "id": "52a6c6b2",
   "metadata": {},
   "outputs": [],
   "source": [
    "# Opencv version in PvNet codebase = '3.4.2'"
   ]
  },
  {
   "cell_type": "code",
   "execution_count": 16,
   "id": "c168b08d",
   "metadata": {},
   "outputs": [
    {
     "name": "stdout",
     "output_type": "stream",
     "text": [
      "[[-0.50412625  0.86339166  0.02028718]\n",
      " [-0.85312665 -0.49420528 -0.16714087]\n",
      " [-0.134282   -0.10156763  0.98572428]]\n",
      "[[ 0.51519562 -0.85650104 -0.03129786]\n",
      " [ 0.85454693  0.51053328  0.09542202]\n",
      " [-0.06575047 -0.07590649  0.99494484]]\n",
      "[[-0.97993129  0.00642799 -0.19923218]\n",
      " [ 0.02917212 -0.98409446 -0.17523457]\n",
      " [-0.19718969 -0.17752984  0.96415742]]\n",
      "theta_2in1 =  3.130 rad = 179.343 deg\n",
      "det(R_1in0) =  1.000\n",
      "det(R_2in0) =  1.000\n"
     ]
    }
   ],
   "source": [
    "T_1in0 = np.array([[-0.50412625, 0.86339166, 0.02028718, -0.00188714],\n",
    "                    [-0.85312665, -0.49420528, -0.16714087, 0.01022473],\n",
    "                    [-0.134282, -0.10156763, 0.98572428, -1.72247363]])\n",
    "\n",
    "\n",
    "T_2in0 = np.array([[0.51519562, -0.85650104, -0.03129786, 0.00203341],\n",
    "                    [0.85454693, 0.51053328, 0.09542202, -0.01044806],\n",
    "                    [-0.06575047, -0.07590649, 0.99494484, 1.774678]])\n",
    "\n",
    "\n",
    "R_1in0 = T_1in0[0:3, 0:3]\n",
    "R_2in0 = T_2in0[0:3, 0:3]\n",
    "\n",
    "print(R_1in0)\n",
    "print(R_2in0)\n",
    "\n",
    "\n",
    "R_2in1 = R_1in0.T @ R_2in0\n",
    "\n",
    "print(R_2in1)\n",
    "\n",
    "theta_2in1 = np.arccos((R_2in1.trace() - 1.) / 2.)\n",
    "print(f'theta_2in1 = {theta_2in1:6.3f} rad = {np.rad2deg(theta_2in1):6.3f} deg')\n",
    "\n",
    "print(f'det(R_1in0) = {np.linalg.det(R_1in0):6.3f}')\n",
    "print(f'det(R_2in0) = {np.linalg.det(R_2in0):6.3f}')"
   ]
  }
 ],
 "metadata": {
  "kernelspec": {
   "display_name": "Python 3 (ipykernel)",
   "language": "python",
   "name": "python3"
  },
  "language_info": {
   "codemirror_mode": {
    "name": "ipython",
    "version": 3
   },
   "file_extension": ".py",
   "mimetype": "text/x-python",
   "name": "python",
   "nbconvert_exporter": "python",
   "pygments_lexer": "ipython3",
   "version": "3.8.8"
  }
 },
 "nbformat": 4,
 "nbformat_minor": 5
}
