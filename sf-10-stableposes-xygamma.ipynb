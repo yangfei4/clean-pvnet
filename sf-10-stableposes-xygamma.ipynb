{
 "cells": [
  {
   "cell_type": "markdown",
   "id": "6bddefdc-a141-4515-a0a1-fb9274277148",
   "metadata": {},
   "source": [
    "# Finding the closest stable pose"
   ]
  },
  {
   "cell_type": "markdown",
   "id": "63b0f7ef-1db4-4352-87bf-9c75333b5a37",
   "metadata": {},
   "source": [
    "This notebook provides an example of how to find the closest stable pose $T_\\text{part}^\\text{tag}(x, y, \\gamma)$ to a given pose estimate $\\widehat{T}_\\text{part}^\\text{tag}$ . It does this by formulating a nonlinear least-squares minimization problem that is solved by Levenberg-Marquardt using [SymForce](https://github.com/symforce-org/symforce). (This avoids the need to code a solver by ourselves, and in particular avoids the need to derive Jacobians by ourselves — both of these were done in the example code for extrinsic calibration that I shared with you earlier.)\n",
    "\n",
    "To run this notebook, you need a conda environment with SymForce, for example one that is created as follows:\n",
    "\n",
    "```\n",
    "mamba create -n sf-test\n",
    "mamba activate sf-test\n",
    "mamba install python=3 numpy scipy sympy matplotlib notebook ipywidgets\n",
    "pip install symforce\n",
    "```\n",
    "\n",
    "(I am using `mamba` instead of `conda`, and have installed everything with [`miniforge`](https://github.com/conda-forge/miniforge) instead of `miniconda`. If you like, you can use `conda`/`miniconda` instead.)\n",
    "\n",
    "In hindsight, after looking at the results in this notebook, it is clear to me that — for the particular way in which we parameterize stable poses — \"replacing the $z$ coordinate\" is an equivalent way to generate the position of the closest stable pose (that is, the values of $x$ and $y$ produced by optimization are always the same as $x_\\text{est}$ and $y_\\text{est}$). It is likely that there is an analytical solution for $\\gamma$ as well — again, for the particular way in which we parameterize stable poses. But, I would still use the method I propose here."
   ]
  },
  {
   "cell_type": "markdown",
   "id": "7cfce918-2b83-4ff3-be8c-92ca790189fd",
   "metadata": {},
   "source": [
    "### Create nonlinear least squares problem to be solved by Levenberg-Marquardt"
   ]
  },
  {
   "cell_type": "markdown",
   "id": "669cea4a-2d95-4cc3-9450-445e9a2cdc02",
   "metadata": {},
   "source": [
    "Initialize [symforce](https://github.com/symforce-org/symforce) with a nonzero epsilon to prevent singularities."
   ]
  },
  {
   "cell_type": "code",
   "execution_count": 1,
   "id": "5e08b47b-fde7-4546-9504-87f335823e60",
   "metadata": {},
   "outputs": [],
   "source": [
    "import symforce\n",
    "symforce.set_epsilon_to_symbol()"
   ]
  },
  {
   "cell_type": "markdown",
   "id": "625dcda5-0206-444f-9ad6-dbbbbef69ea0",
   "metadata": {},
   "source": [
    "Import everything else we need."
   ]
  },
  {
   "cell_type": "code",
   "execution_count": 2,
   "id": "6a81ff7c-3e10-49e8-9e22-5fec6a309a89",
   "metadata": {},
   "outputs": [],
   "source": [
    "import symforce.symbolic as sf\n",
    "import numpy as np\n",
    "from symforce.values import Values\n",
    "from symforce.opt.factor import Factor\n",
    "from symforce.opt.optimizer import Optimizer\n",
    "from symforce import codegen\n",
    "import sym\n",
    "import matplotlib.pyplot as plt"
   ]
  },
  {
   "cell_type": "markdown",
   "id": "d1a30ea2-bd25-4a7a-b5b5-da3623c3e548",
   "metadata": {},
   "source": [
    "Create a symbolic function that maps $x, y, \\gamma$ to a stable pose.\n",
    "\n",
    "**THIS IS ONLY A SIMPLE EXAMPLE! YOU WOULD NEED TO MODIFY THIS FUNCTION SO IT ACTUALLY USES THE PARAMETERIZATION YOU DERIVED!**"
   ]
  },
  {
   "cell_type": "code",
   "execution_count": 3,
   "id": "6303fdde-7811-4054-8236-7b908beb454f",
   "metadata": {},
   "outputs": [],
   "source": [
    "def construct_stable_pose(x: sf.Scalar, y: sf.Scalar, gamma: sf.Scalar) -> sf.Pose3:\n",
    "    return sf.Pose3(\n",
    "        R=sf.Rot3.from_yaw_pitch_roll(gamma, 0, 0),\n",
    "        t=sf.V3(x, y, 0),\n",
    "    )"
   ]
  },
  {
   "cell_type": "markdown",
   "id": "b1c0ad23-3059-401a-82b9-5686521d35cd",
   "metadata": {},
   "source": [
    "Create a numeric version of this function."
   ]
  },
  {
   "cell_type": "code",
   "execution_count": 4,
   "id": "3ac6cd0f-1f9b-4308-bcda-1df5c8084fca",
   "metadata": {},
   "outputs": [
    {
     "ename": "AttributeError",
     "evalue": "'Codegen' object has no attribute 'lambdify'",
     "output_type": "error",
     "traceback": [
      "\u001b[0;31m---------------------------------------------------------------------------\u001b[0m",
      "\u001b[0;31mAttributeError\u001b[0m                            Traceback (most recent call last)",
      "\u001b[1;32m/home/yangfei/clean-pvnet/sf-10-stableposes-xygamma.ipynb Cell 11\u001b[0m line \u001b[0;36m1\n\u001b[0;32m----> <a href='vscode-notebook-cell://ssh-remote%2Bbigbertha.csl.illinois.edu/home/yangfei/clean-pvnet/sf-10-stableposes-xygamma.ipynb#X13sdnNjb2RlLXJlbW90ZQ%3D%3D?line=0'>1</a>\u001b[0m construct_stable_pose_numeric \u001b[39m=\u001b[39m codegen\u001b[39m.\u001b[39;49mCodegen\u001b[39m.\u001b[39;49mfunction(\n\u001b[1;32m      <a href='vscode-notebook-cell://ssh-remote%2Bbigbertha.csl.illinois.edu/home/yangfei/clean-pvnet/sf-10-stableposes-xygamma.ipynb#X13sdnNjb2RlLXJlbW90ZQ%3D%3D?line=1'>2</a>\u001b[0m     func\u001b[39m=\u001b[39;49mconstruct_stable_pose,\n\u001b[1;32m      <a href='vscode-notebook-cell://ssh-remote%2Bbigbertha.csl.illinois.edu/home/yangfei/clean-pvnet/sf-10-stableposes-xygamma.ipynb#X13sdnNjb2RlLXJlbW90ZQ%3D%3D?line=2'>3</a>\u001b[0m     config\u001b[39m=\u001b[39;49mcodegen\u001b[39m.\u001b[39;49mPythonConfig(),\n\u001b[1;32m      <a href='vscode-notebook-cell://ssh-remote%2Bbigbertha.csl.illinois.edu/home/yangfei/clean-pvnet/sf-10-stableposes-xygamma.ipynb#X13sdnNjb2RlLXJlbW90ZQ%3D%3D?line=3'>4</a>\u001b[0m )\u001b[39m.\u001b[39;49mlambdify()\n",
      "\u001b[0;31mAttributeError\u001b[0m: 'Codegen' object has no attribute 'lambdify'"
     ]
    }
   ],
   "source": [
    "# construct_stable_pose_numeric = codegen.Codegen.function(\n",
    "#     func=construct_stable_pose,\n",
    "#     config=codegen.PythonConfig(),\n",
    "# ).lambdify()\n",
    "\n",
    "construct_stable_pose_numeric = construct_stable_pose"
   ]
  },
  {
   "cell_type": "markdown",
   "id": "9caa5ae8-2971-46ae-8303-316ead4728d8",
   "metadata": {},
   "source": [
    "Create a function that computes the (weighted) error between a stable pose and a pose estimate."
   ]
  },
  {
   "cell_type": "code",
   "execution_count": null,
   "id": "0d83f31d-2dd1-4694-994e-119227d4e501",
   "metadata": {},
   "outputs": [],
   "source": [
    "def pose_residual(\n",
    "    # Things we want to find\n",
    "    x: sf.Scalar,\n",
    "    y: sf.Scalar,\n",
    "    gamma: sf.Scalar,\n",
    "    # Things we are given\n",
    "    T_est: sf.Pose3,\n",
    "    w: sf.Scalar,\n",
    "    # Things that are details of symforce\n",
    "    epsilon: sf.Scalar,\n",
    ") -> sf.V4:\n",
    "    # Create stable pose\n",
    "    T_sta = construct_stable_pose(x, y, gamma)\n",
    "    # Find difference in position\n",
    "    t_diff = T_est.t - T_sta.t\n",
    "    # Find difference in angle\n",
    "    a_diff = T_est.R.angle_between(T_sta.R)\n",
    "    # Return error (could be weighted)\n",
    "    return sf.V4(t_diff.x, t_diff.y, t_diff.z, w * a_diff)"
   ]
  },
  {
   "cell_type": "markdown",
   "id": "645dcc8e-a4a0-4bc5-904c-5fb50fcb412a",
   "metadata": {},
   "source": [
    "Create factors (i.e., the list of all residuals)."
   ]
  },
  {
   "cell_type": "code",
   "execution_count": null,
   "id": "4c843007-f3aa-42e8-90b3-ffee6a2e78bc",
   "metadata": {},
   "outputs": [],
   "source": [
    "factors = [\n",
    "    Factor(\n",
    "        residual=pose_residual,\n",
    "        keys=[\n",
    "            'x',\n",
    "            'y',\n",
    "            'gamma',\n",
    "            'T_est',\n",
    "            'w',\n",
    "            'epsilon',\n",
    "        ]\n",
    "    )\n",
    "]"
   ]
  },
  {
   "cell_type": "markdown",
   "id": "4131951d-8376-43f6-957e-2b9478fe90f7",
   "metadata": {},
   "source": [
    "Create optimizer."
   ]
  },
  {
   "cell_type": "code",
   "execution_count": null,
   "id": "e3ff9a1b-c708-4ad6-8aba-73565ecd5c5d",
   "metadata": {},
   "outputs": [],
   "source": [
    "optimizer = Optimizer(\n",
    "    factors=factors,\n",
    "    optimized_keys=[\n",
    "        'x',\n",
    "        'y',\n",
    "        'gamma',\n",
    "    ],\n",
    "    debug_stats=True,\n",
    ")"
   ]
  },
  {
   "cell_type": "markdown",
   "id": "943c9af0-59ce-4bbb-9fa6-75b139ae2ee1",
   "metadata": {},
   "source": [
    "### Example in which the pose estimate is a stable pose"
   ]
  },
  {
   "cell_type": "markdown",
   "id": "1e25f3f2-e198-432f-bda9-4186c9319e75",
   "metadata": {},
   "source": [
    "Choose a stable pose."
   ]
  },
  {
   "cell_type": "code",
   "execution_count": null,
   "id": "d529eb57-2c1b-4010-9b9f-a4c7c2c18516",
   "metadata": {},
   "outputs": [],
   "source": [
    "x_est = -0.1\n",
    "y_est = 0.4\n",
    "gamma_est = 0.2"
   ]
  },
  {
   "cell_type": "markdown",
   "id": "0ed7f51a-7b3a-4c84-a541-24ba43a871ce",
   "metadata": {},
   "source": [
    "Create initial values."
   ]
  },
  {
   "cell_type": "code",
   "execution_count": null,
   "id": "1ef14260-49c2-4f5c-8c2c-f66f11431aa6",
   "metadata": {},
   "outputs": [],
   "source": [
    "initial_values = Values(\n",
    "    # Initial guess of stable pose\n",
    "    x=0.,\n",
    "    y=0.,\n",
    "    gamma=0.,\n",
    "    # Pose estimate\n",
    "    T_est=construct_stable_pose_numeric(x_est, y_est, gamma_est),\n",
    "    # Weight on angle error\n",
    "    w=1.,\n",
    "    # Epsilon\n",
    "    epsilon=sym.epsilon,\n",
    ")"
   ]
  },
  {
   "cell_type": "markdown",
   "id": "9e79af15-f7ff-48ab-8026-51405cd086e3",
   "metadata": {},
   "source": [
    "Run the optimizer."
   ]
  },
  {
   "cell_type": "code",
   "execution_count": null,
   "id": "0ce79079-6730-48a9-ace0-f127973d901d",
   "metadata": {},
   "outputs": [],
   "source": [
    "result = optimizer.optimize(initial_values)"
   ]
  },
  {
   "cell_type": "markdown",
   "id": "690ba667-59d4-4e2a-9123-b34bb8ccefca",
   "metadata": {},
   "source": [
    "Check for success."
   ]
  },
  {
   "cell_type": "code",
   "execution_count": null,
   "id": "f45d781e-ae65-4b7f-926c-daced5873190",
   "metadata": {},
   "outputs": [],
   "source": [
    "print(result.status)"
   ]
  },
  {
   "cell_type": "markdown",
   "id": "5a17ee92-8072-4911-a144-98a20665562d",
   "metadata": {},
   "source": [
    "Check final error."
   ]
  },
  {
   "cell_type": "code",
   "execution_count": null,
   "id": "73c43711-78b2-432c-a916-2113551af5bd",
   "metadata": {},
   "outputs": [],
   "source": [
    "print(result.error())"
   ]
  },
  {
   "cell_type": "markdown",
   "id": "d298c8a4-e553-4a68-992d-30213b1db160",
   "metadata": {},
   "source": [
    "Get poses."
   ]
  },
  {
   "cell_type": "code",
   "execution_count": null,
   "id": "1f78b40f-50ca-4f3f-8826-f80ab1efa1b0",
   "metadata": {},
   "outputs": [],
   "source": [
    "# Pose estimate (this was given and was not changed by the optimizer)\n",
    "T_est = result.optimized_values['T_est']\n",
    "\n",
    "# Stable pose that is closest to the pose estimate\n",
    "T_sta = construct_stable_pose_numeric(\n",
    "    result.optimized_values['x'],\n",
    "    result.optimized_values['y'],\n",
    "    result.optimized_values['gamma'],\n",
    ")"
   ]
  },
  {
   "cell_type": "markdown",
   "id": "cc2f2790-cee3-4477-ae80-7af351bb8142",
   "metadata": {},
   "source": [
    "Create helper functions to draw results."
   ]
  },
  {
   "cell_type": "code",
   "execution_count": null,
   "id": "1b6f3055-b32c-4cdf-b870-0689c784ce79",
   "metadata": {},
   "outputs": [],
   "source": [
    "def draw_frame(ax, R, t, s=1., linewidth=1., linestyle='-'):\n",
    "    o = t + R @ np.array([0., 0., 0.])\n",
    "    x = t + R @ np.array([s, 0., 0.])\n",
    "    y = t + R @ np.array([0., s, 0.])\n",
    "    z = t + R @ np.array([0., 0., s])\n",
    "    ax.plot(o[0], o[1], o[2], 'k.')\n",
    "    ax.plot([o[0], x[0]], [o[1], x[1]], [o[2], x[2]], 'r', linewidth=linewidth, linestyle=linestyle)\n",
    "    ax.plot([o[0], y[0]], [o[1], y[1]], [o[2], y[2]], 'g', linewidth=linewidth, linestyle=linestyle)\n",
    "    ax.plot([o[0], z[0]], [o[1], z[1]], [o[2], z[2]], 'b', linewidth=linewidth, linestyle=linestyle)\n",
    "\n",
    "def draw_view(ax, elev, azim, roll, T_sta, T_est, s=1.):\n",
    "    ax.set_proj_type('ortho')\n",
    "    \n",
    "    # Pose estimate\n",
    "    draw_frame(\n",
    "        ax,\n",
    "        T_est.R.to_rotation_matrix(),\n",
    "        T_est.t,\n",
    "        s=s,\n",
    "    )\n",
    "    \n",
    "    # Stable pose that is closest to pose estimate\n",
    "    draw_frame(\n",
    "        ax,\n",
    "        T_sta.R.to_rotation_matrix(),\n",
    "        T_sta.t,\n",
    "        s=s,\n",
    "        linewidth=3.,\n",
    "        linestyle='--',\n",
    "    )\n",
    "    \n",
    "    ax.set_xlim(-1, 1)\n",
    "    ax.set_ylim(-1, 1)\n",
    "    ax.set_zlim(0, 2)\n",
    "    ax.set_xlabel('x')\n",
    "    ax.set_ylabel('y')\n",
    "    ax.set_zlabel('z')\n",
    "    ax.set_xticks([-1, 0, 1])\n",
    "    ax.set_yticks([-1, 0, 1])\n",
    "    ax.set_zticks([0, 1, 2])\n",
    "    \n",
    "    ax.set_aspect('equal')\n",
    "    ax.view_init(elev=elev, azim=azim, roll=roll)\n",
    "\n",
    "def draw_results(T_sta, T_est, s=1.):\n",
    "    fig, (ax, ax_x, ax_y, ax_z) = plt.subplots(1, 4, figsize=(20, 60), subplot_kw={'projection': '3d'})\n",
    "    draw_view(ax, 15., 30., 0., T_sta, T_est, s=s)\n",
    "    draw_view(ax_x, 0., -90., 0., T_sta, T_est, s=s)\n",
    "    draw_view(ax_y, 0., 0., 0., T_sta, T_est, s=s)\n",
    "    draw_view(ax_z, 90., -90., 0., T_sta, T_est, s=s)\n",
    "    fig.tight_layout()\n",
    "    plt.show()"
   ]
  },
  {
   "cell_type": "markdown",
   "id": "999eb027-acd9-4bb0-8196-22c178b97d1c",
   "metadata": {},
   "source": [
    "Draw poses (should only see one, because both the pose estimate and the closest stable pose should be identical)."
   ]
  },
  {
   "cell_type": "code",
   "execution_count": null,
   "id": "70ff74e7-b67b-44a3-89ee-42a00774a6f8",
   "metadata": {},
   "outputs": [],
   "source": [
    "draw_results(T_sta, T_est, s=0.5)"
   ]
  },
  {
   "cell_type": "markdown",
   "id": "8bafb865-c0c0-4063-8517-9166ee878c0b",
   "metadata": {},
   "source": [
    "Compare parameters of closest stable pose to parameters of pose estimate (should be the same)."
   ]
  },
  {
   "cell_type": "code",
   "execution_count": null,
   "id": "9fe43a30-47e5-4119-9e4c-7664b3a9f74e",
   "metadata": {},
   "outputs": [],
   "source": [
    "x_sta = result.optimized_values['x']\n",
    "y_sta = result.optimized_values['y']\n",
    "gamma_sta = result.optimized_values['gamma']\n",
    "\n",
    "print(f'{x_est:7.4f}, {y_est:7.4f}, {gamma_est:7.4f}   (pose estimate)')\n",
    "print(f'{x_sta:7.4f}, {y_sta:7.4f}, {gamma_sta:7.4f}   (closest stable pose)')"
   ]
  },
  {
   "cell_type": "markdown",
   "id": "b08de8d4-08d7-4a60-a860-66bd630d7f7d",
   "metadata": {},
   "source": [
    "### Example in which the pose estimate is not a stable pose"
   ]
  },
  {
   "cell_type": "markdown",
   "id": "85312e3b-c283-45d8-9fad-6eb80690d879",
   "metadata": {},
   "source": [
    "Create initial values."
   ]
  },
  {
   "cell_type": "code",
   "execution_count": null,
   "id": "34df7ca5-0fb3-425d-a876-51ff98e77120",
   "metadata": {},
   "outputs": [],
   "source": [
    "initial_values = Values(\n",
    "    # Initial guess of stable pose\n",
    "    x=0.,\n",
    "    y=0.,\n",
    "    gamma=0.,\n",
    "    # Pose estimate\n",
    "    T_est=sym.Pose3(\n",
    "        R=sym.Rot3.from_yaw_pitch_roll(0.9, 0., 0.),\n",
    "        t=np.array([0.2, -0.1, 0.4]),\n",
    "    ),\n",
    "    # Weight on angle error\n",
    "    w=1.,\n",
    "    # Epsilon\n",
    "    epsilon=sym.epsilon,\n",
    ")"
   ]
  },
  {
   "cell_type": "markdown",
   "id": "644fc499-40a3-4166-a81f-316e5fbe1d8c",
   "metadata": {},
   "source": [
    "Run the optimizer."
   ]
  },
  {
   "cell_type": "code",
   "execution_count": null,
   "id": "a58d2e47-c73f-42fa-9061-7f90994dd80c",
   "metadata": {},
   "outputs": [],
   "source": [
    "result = optimizer.optimize(initial_values)"
   ]
  },
  {
   "cell_type": "markdown",
   "id": "b683828f-4694-41ba-88d8-5be514cc973b",
   "metadata": {},
   "source": [
    "Check for success."
   ]
  },
  {
   "cell_type": "code",
   "execution_count": null,
   "id": "e3e7c0b7-6652-4d38-aa82-7a70d4b7fd99",
   "metadata": {},
   "outputs": [],
   "source": [
    "print(result.status)"
   ]
  },
  {
   "cell_type": "markdown",
   "id": "053d485e-146c-4bb9-b04b-3364dc7f3e0a",
   "metadata": {},
   "source": [
    "Check final error."
   ]
  },
  {
   "cell_type": "code",
   "execution_count": null,
   "id": "7d142d0c-42be-43a5-817c-2b17a03f6749",
   "metadata": {},
   "outputs": [],
   "source": [
    "print(result.error())"
   ]
  },
  {
   "cell_type": "markdown",
   "id": "05255778-8f47-456c-90ac-07250715d299",
   "metadata": {},
   "source": [
    "Get poses."
   ]
  },
  {
   "cell_type": "code",
   "execution_count": null,
   "id": "d798e6f0-fa51-45b0-b362-f5624fe870c9",
   "metadata": {},
   "outputs": [],
   "source": [
    "# Pose estimate (this was given and was not changed by the optimizer)\n",
    "T_est = result.optimized_values['T_est']\n",
    "\n",
    "# Stable pose that is closest to the pose estimate\n",
    "T_sta = construct_stable_pose_numeric(\n",
    "    result.optimized_values['x'],\n",
    "    result.optimized_values['y'],\n",
    "    result.optimized_values['gamma'],\n",
    ")"
   ]
  },
  {
   "cell_type": "markdown",
   "id": "1a99eee5-f8f1-46a8-a60c-fec2535cf93c",
   "metadata": {},
   "source": [
    "Draw poses (should have the same orientation, with one below the other)."
   ]
  },
  {
   "cell_type": "code",
   "execution_count": null,
   "id": "0e1991a6-3c28-464b-82cf-a63ad4d115a7",
   "metadata": {},
   "outputs": [],
   "source": [
    "draw_results(T_sta, T_est, s=0.5)"
   ]
  },
  {
   "cell_type": "markdown",
   "id": "7b6261c7-bb89-4b60-8612-42abf778a2ab",
   "metadata": {},
   "source": [
    "### Another example in which the pose estimate is not a stable pose"
   ]
  },
  {
   "cell_type": "markdown",
   "id": "9dbb482a-e83d-4d48-8863-e35f592f0215",
   "metadata": {},
   "source": [
    "Create initial values."
   ]
  },
  {
   "cell_type": "code",
   "execution_count": null,
   "id": "0ef30c58-49eb-4146-99bb-d723dd28f4dc",
   "metadata": {},
   "outputs": [],
   "source": [
    "initial_values = Values(\n",
    "    # Initial guess of stable pose\n",
    "    x=0.,\n",
    "    y=0.,\n",
    "    gamma=0.,\n",
    "    # Pose estimate\n",
    "    T_est=sym.Pose3(\n",
    "        R=sym.Rot3.from_yaw_pitch_roll(-0.2, 0.5, 0.8),\n",
    "        t=np.array([-0.3, 0.2, 0.7]),\n",
    "    ),\n",
    "    # Weight on angle error\n",
    "    w=1.,\n",
    "    # Epsilon\n",
    "    epsilon=sym.epsilon,\n",
    ")"
   ]
  },
  {
   "cell_type": "markdown",
   "id": "ef66e82c-cd62-4aa7-bc4a-ec33c1d6874d",
   "metadata": {},
   "source": [
    "Run the optimizer."
   ]
  },
  {
   "cell_type": "code",
   "execution_count": null,
   "id": "b5037042-620c-4679-8f60-39640a75cced",
   "metadata": {},
   "outputs": [],
   "source": [
    "result = optimizer.optimize(initial_values)"
   ]
  },
  {
   "cell_type": "markdown",
   "id": "a9554eb0-c855-4108-b2b4-fbc3531b2af6",
   "metadata": {},
   "source": [
    "Check for success."
   ]
  },
  {
   "cell_type": "code",
   "execution_count": null,
   "id": "e66959cb-8cc9-4904-8963-91279fb2b769",
   "metadata": {},
   "outputs": [],
   "source": [
    "print(result.status)"
   ]
  },
  {
   "cell_type": "markdown",
   "id": "7b3e6408-b3cd-4280-a11a-7c7b26dd5115",
   "metadata": {},
   "source": [
    "Check final error."
   ]
  },
  {
   "cell_type": "code",
   "execution_count": null,
   "id": "8835da6f-01d5-406d-9b40-7ab67fa552f0",
   "metadata": {},
   "outputs": [],
   "source": [
    "print(result.error())"
   ]
  },
  {
   "cell_type": "markdown",
   "id": "58948300-7617-48cb-a01a-852a9e3d9913",
   "metadata": {},
   "source": [
    "Get poses."
   ]
  },
  {
   "cell_type": "code",
   "execution_count": null,
   "id": "55aef950-c90a-4ee5-8eb4-37235c0dd8ff",
   "metadata": {},
   "outputs": [],
   "source": [
    "# Pose estimate (this was given and was not changed by the optimizer)\n",
    "T_est = result.optimized_values['T_est']\n",
    "\n",
    "# Stable pose that is closest to the pose estimate\n",
    "T_sta = construct_stable_pose_numeric(\n",
    "    result.optimized_values['x'],\n",
    "    result.optimized_values['y'],\n",
    "    result.optimized_values['gamma'],\n",
    ")"
   ]
  },
  {
   "cell_type": "markdown",
   "id": "cd02c0d1-445a-457d-8689-ee3976bf6f06",
   "metadata": {},
   "source": [
    "Draw poses (should have the same orientation, with one below the other)."
   ]
  },
  {
   "cell_type": "code",
   "execution_count": null,
   "id": "71b5f8d4-940c-4947-aed6-d020c070111b",
   "metadata": {},
   "outputs": [],
   "source": [
    "draw_results(T_sta, T_est, s=0.5)"
   ]
  }
 ],
 "metadata": {
  "kernelspec": {
   "display_name": "Python 3 (ipykernel)",
   "language": "python",
   "name": "python3"
  },
  "language_info": {
   "codemirror_mode": {
    "name": "ipython",
    "version": 3
   },
   "file_extension": ".py",
   "mimetype": "text/x-python",
   "name": "python",
   "nbconvert_exporter": "python",
   "pygments_lexer": "ipython3",
   "version": "3.8.15"
  }
 },
 "nbformat": 4,
 "nbformat_minor": 5
}
